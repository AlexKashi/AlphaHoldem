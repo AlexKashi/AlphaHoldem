{
 "cells": [
  {
   "cell_type": "code",
   "execution_count": 1,
   "metadata": {},
   "outputs": [
    {
     "ename": "ModuleNotFoundError",
     "evalue": "No module named '__main__.env'; '__main__' is not a package",
     "output_type": "error",
     "traceback": [
      "\u001b[0;31m---------------------------------------------------------------------------\u001b[0m",
      "\u001b[0;31mModuleNotFoundError\u001b[0m                       Traceback (most recent call last)",
      "\u001b[0;32m<ipython-input-1-87505d669c4f>\u001b[0m in \u001b[0;36m<module>\u001b[0;34m\u001b[0m\n\u001b[1;32m      2\u001b[0m \u001b[0;32mfrom\u001b[0m \u001b[0mgym\u001b[0m\u001b[0;34m.\u001b[0m\u001b[0menvs\u001b[0m\u001b[0;34m.\u001b[0m\u001b[0mregistration\u001b[0m \u001b[0;32mimport\u001b[0m \u001b[0mregister\u001b[0m\u001b[0;34m\u001b[0m\u001b[0;34m\u001b[0m\u001b[0m\n\u001b[1;32m      3\u001b[0m \u001b[0;34m\u001b[0m\u001b[0m\n\u001b[0;32m----> 4\u001b[0;31m \u001b[0;32mfrom\u001b[0m \u001b[0;34m.\u001b[0m\u001b[0menv\u001b[0m \u001b[0;32mimport\u001b[0m \u001b[0mTexasHoldemEnv\u001b[0m\u001b[0;34m\u001b[0m\u001b[0;34m\u001b[0m\u001b[0m\n\u001b[0m\u001b[1;32m      5\u001b[0m \u001b[0;32mfrom\u001b[0m \u001b[0;34m.\u001b[0m\u001b[0mutils\u001b[0m \u001b[0;32mimport\u001b[0m \u001b[0mcard_to_str\u001b[0m\u001b[0;34m,\u001b[0m \u001b[0mhand_to_str\u001b[0m\u001b[0;34m,\u001b[0m \u001b[0msafe_actions\u001b[0m\u001b[0;34m,\u001b[0m \u001b[0maction_table\u001b[0m\u001b[0;34m\u001b[0m\u001b[0;34m\u001b[0m\u001b[0m\n\u001b[1;32m      6\u001b[0m \u001b[0;34m\u001b[0m\u001b[0m\n",
      "\u001b[0;31mModuleNotFoundError\u001b[0m: No module named '__main__.env'; '__main__' is not a package"
     ]
    }
   ],
   "source": [
    "# -*- coding: utf-8 -*-\n",
    "from gym.envs.registration import register\n",
    "\n",
    "from .env import TexasHoldemEnv\n",
    "from .utils import card_to_str, hand_to_str, safe_actions, action_table\n",
    "\n",
    "register(\n",
    " \tid='TexasHoldem-v0',\n",
    " \tentry_point='holdem.env:TexasHoldemEnv',\n",
    "  kwargs={'n_seats': 2, 'debug': False},\n",
    ")\n",
    "\n",
    "register(\n",
    " \tid='TexasHoldem-v1',\n",
    " \tentry_point='holdem.env:TexasHoldemEnv',\n",
    "  kwargs={'n_seats': 4, 'debug': False},\n",
    ")\n",
    "\n",
    "register(\n",
    " \tid='TexasHoldem-v2',\n",
    " \tentry_point='holdem.env:TexasHoldemEnv',\n",
    "  kwargs={'n_seats': 8, 'debug': False},\n",
    ")\n"
   ]
  },
  {
   "cell_type": "code",
   "execution_count": null,
   "metadata": {},
   "outputs": [],
   "source": []
  }
 ],
 "metadata": {
  "kernelspec": {
   "display_name": "Python 3",
   "language": "python",
   "name": "python3"
  },
  "language_info": {
   "codemirror_mode": {
    "name": "ipython",
    "version": 3
   },
   "file_extension": ".py",
   "mimetype": "text/x-python",
   "name": "python",
   "nbconvert_exporter": "python",
   "pygments_lexer": "ipython3",
   "version": "3.7.1"
  }
 },
 "nbformat": 4,
 "nbformat_minor": 2
}
